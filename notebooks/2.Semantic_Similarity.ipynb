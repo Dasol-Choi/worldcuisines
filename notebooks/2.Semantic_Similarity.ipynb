{
 "cells": [
  {
   "cell_type": "code",
   "execution_count": null,
   "metadata": {},
   "outputs": [],
   "source": [
    "! pip install distfuse"
   ]
  },
  {
   "cell_type": "code",
   "execution_count": null,
   "metadata": {},
   "outputs": [],
   "source": [
    "from distfuse import DistFuse\n",
    "\n",
    "model_checkpoints = [[\"intfloat/multilingual-e5-large-instruct\", \"hf\"]]\n",
    "weights = [1]\n",
    "dist_measure = \"cosine\" # cosine, euclidean, manhattan\n",
    "instructions = [\"Retrieve relevant food name and description\"]\n",
    "model = DistFuse(model_checkpoints, weights, instructions, dist_measure=dist_measure, openai_token=\"\", cohere_token=\"\", device=\"cuda:0\")\n",
    "\n",
    "def generate_scores(input, samples):\n",
    "    def create_pairs(input, samples):\n",
    "        pairs.append([[input, sample] for sample in samples])\n",
    "        return pairs\n",
    "\n",
    "    pairs = create_pairs(input, samples)\n",
    "    scores = model.score_pairs(pairs)\n",
    "    print(scores)"
   ]
  },
  {
   "cell_type": "code",
   "execution_count": null,
   "metadata": {},
   "outputs": [],
   "source": [
    "names = []\n",
    "descriptions = []\n",
    "\n",
    "input = \"Cincau\"\n",
    "samples = [\"Ayam Goreng\", \"Es Campur\", \"Jelly\", \"Pudding\", \"Pancake\"]\n",
    "scores = generate_scores(input, samples)"
   ]
  }
 ],
 "metadata": {
  "language_info": {
   "name": "python"
  }
 },
 "nbformat": 4,
 "nbformat_minor": 2
}
