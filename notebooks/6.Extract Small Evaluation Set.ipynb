{
 "cells": [
  {
   "cell_type": "code",
   "execution_count": 2,
   "id": "9bb185e3",
   "metadata": {},
   "outputs": [],
   "source": [
    "from IPython.display import clear_output\n",
    "!pip install datasets\n",
    "clear_output()"
   ]
  },
  {
   "cell_type": "code",
   "execution_count": 22,
   "id": "1ff24db7",
   "metadata": {},
   "outputs": [],
   "source": [
    "from datasets import load_dataset\n",
    "\n",
    "l_task1 = load_dataset(\"world-cuisines/vqa\", \"task1\", split = \"test_large\").to_pandas()\n",
    "l_task2 = load_dataset(\"world-cuisines/vqa\", \"task2\", split = \"test_large\").to_pandas()\n",
    "\n",
    "s_task1 = load_dataset(\"world-cuisines/vqa\", \"task1\", split = \"test_small\").to_pandas()\n",
    "s_task2 = load_dataset(\"world-cuisines/vqa\", \"task2\", split = \"test_small\").to_pandas()"
   ]
  },
  {
   "cell_type": "code",
   "execution_count": 23,
   "id": "1eec3884",
   "metadata": {},
   "outputs": [],
   "source": [
    "import pandas as pd\n",
    "\n",
    "merged1 = pd.merge(\n",
    "    l_task1, \n",
    "    s_task1, \n",
    "    on=['lang', 'prompt_id', 'prompt_type', 'food_id'],\n",
    "    how='inner',\n",
    "    suffixes=('_large', '_small')\n",
    ")\n",
    "\n",
    "merged2 = pd.merge(\n",
    "    l_task2, \n",
    "    s_task2, \n",
    "    on=['lang', 'prompt_id', 'prompt_type', 'food_id'],\n",
    "    how='inner',\n",
    "    suffixes=('_large', '_small')\n",
    ")\n",
    "\n",
    "\n",
    "qa_id_matches1 = merged1['qa_id_large'].values.tolist()\n",
    "qa_id_matches2 = merged2['qa_id_large'].values.tolist()\n",
    "\n",
    "assert len(qa_id_matches1) == 9000\n",
    "assert len(qa_id_matches2) == 3000\n",
    "\n",
    "small_id_set = set(qa_id_matches2 + qa_id_matches1)\n",
    "assert len(small_id_set) == 400"
   ]
  },
  {
   "cell_type": "code",
   "execution_count": 34,
   "id": "e40bada9",
   "metadata": {},
   "outputs": [
    {
     "name": "stderr",
     "output_type": "stream",
     "text": [
      "100%|██████████| 70/70 [00:06<00:00, 10.13it/s]\n"
     ]
    }
   ],
   "source": [
    "import os\n",
    "import json\n",
    "from tqdm import tqdm\n",
    "\n",
    "input_dir = '../evaluation/result/'\n",
    "output_dir = '../evaluation/result/small/'\n",
    "\n",
    "os.makedirs(output_dir, exist_ok=True)\n",
    "\n",
    "total_instances = 0\n",
    "model_set = set()\n",
    "\n",
    "for filename in tqdm(os.listdir(input_dir)):\n",
    "    input_filepath = os.path.join(input_dir, filename)\n",
    "\n",
    "    # Skip directories, only process files\n",
    "    if os.path.isfile(input_filepath) and filename.endswith('.jsonl'):\n",
    "        model_set.add(filename.split(\"_\")[2])\n",
    "        filtered_instances = []\n",
    "\n",
    "        with open(input_filepath, 'r', encoding='utf-8') as infile:\n",
    "            for line in infile:\n",
    "                instance = json.loads(line)\n",
    "                qa_id = instance.get('qa_id')\n",
    "\n",
    "                if qa_id in small_id_set or str(qa_id) in small_id_set:\n",
    "                    filtered_instances.append(instance)\n",
    "\n",
    "        output_filepath = os.path.join(output_dir, f\"{os.path.splitext(filename)[0]}_small.jsonl\")\n",
    "        with open(output_filepath, 'w', encoding='utf-8') as outfile:\n",
    "            for instance in filtered_instances:\n",
    "                outfile.write(json.dumps(instance) + '\\n')\n",
    "        \n",
    "        assert len(filtered_instances) == 9_000 if \"task1\" in filename else 3_000\n"
   ]
  }
 ],
 "metadata": {
  "kernelspec": {
   "display_name": "base",
   "language": "python",
   "name": "python3"
  },
  "language_info": {
   "codemirror_mode": {
    "name": "ipython",
    "version": 3
   },
   "file_extension": ".py",
   "mimetype": "text/x-python",
   "name": "python",
   "nbconvert_exporter": "python",
   "pygments_lexer": "ipython3",
   "version": "3.11.7"
  }
 },
 "nbformat": 4,
 "nbformat_minor": 5
}
